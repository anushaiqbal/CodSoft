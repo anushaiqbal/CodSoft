{
 "cells": [
  {
   "cell_type": "code",
   "execution_count": 1,
   "id": "fe830be6-513a-47c9-8f32-aa718978f8a5",
   "metadata": {},
   "outputs": [
    {
     "name": "stdout",
     "output_type": "stream",
     "text": [
      "\n",
      " ********  Welcome to the ROCK PAPER SCISSOR GAME  ******** \n",
      "\n"
     ]
    },
    {
     "name": "stdin",
     "output_type": "stream",
     "text": [
      "Enter your choice ( rock / paper / scissor ):  paper\n"
     ]
    },
    {
     "name": "stdout",
     "output_type": "stream",
     "text": [
      "You chose : paper\n",
      "Computer chose : scissor\n",
      "Computer Win!\n",
      "\n",
      "Score - You : 0 \n",
      "Computer : 1\n"
     ]
    },
    {
     "name": "stdin",
     "output_type": "stream",
     "text": [
      "\n",
      "Do you want to play again? (yes/no) :  yes\n"
     ]
    },
    {
     "name": "stdout",
     "output_type": "stream",
     "text": [
      "\n",
      " ********  Welcome to the ROCK PAPER SCISSOR GAME  ******** \n",
      "\n"
     ]
    },
    {
     "name": "stdin",
     "output_type": "stream",
     "text": [
      "Enter your choice ( rock / paper / scissor ):  scissor\n"
     ]
    },
    {
     "name": "stdout",
     "output_type": "stream",
     "text": [
      "You chose : scissor\n",
      "Computer chose : rock\n",
      "Computer Win!\n",
      "\n",
      "Score - You : 0 \n",
      "Computer : 2\n"
     ]
    },
    {
     "name": "stdin",
     "output_type": "stream",
     "text": [
      "\n",
      "Do you want to play again? (yes/no) :  yes\n"
     ]
    },
    {
     "name": "stdout",
     "output_type": "stream",
     "text": [
      "\n",
      " ********  Welcome to the ROCK PAPER SCISSOR GAME  ******** \n",
      "\n"
     ]
    },
    {
     "name": "stdin",
     "output_type": "stream",
     "text": [
      "Enter your choice ( rock / paper / scissor ):  rock\n"
     ]
    },
    {
     "name": "stdout",
     "output_type": "stream",
     "text": [
      "You chose : rock\n",
      "Computer chose : paper\n",
      "Computer Win!\n",
      "\n",
      "Score - You : 0 \n",
      "Computer : 3\n"
     ]
    },
    {
     "name": "stdin",
     "output_type": "stream",
     "text": [
      "\n",
      "Do you want to play again? (yes/no) :  yes\n"
     ]
    },
    {
     "name": "stdout",
     "output_type": "stream",
     "text": [
      "\n",
      " ********  Welcome to the ROCK PAPER SCISSOR GAME  ******** \n",
      "\n"
     ]
    },
    {
     "name": "stdin",
     "output_type": "stream",
     "text": [
      "Enter your choice ( rock / paper / scissor ):  rock\n"
     ]
    },
    {
     "name": "stdout",
     "output_type": "stream",
     "text": [
      "You chose : rock\n",
      "Computer chose : rock\n",
      "It's a tie!\n",
      "\n",
      "Score - You : 0 \n",
      "Computer : 3\n"
     ]
    },
    {
     "name": "stdin",
     "output_type": "stream",
     "text": [
      "\n",
      "Do you want to play again? (yes/no) :  no\n"
     ]
    },
    {
     "name": "stdout",
     "output_type": "stream",
     "text": [
      "Thanks for playing!\n",
      "\n",
      "Computer won by 3  points\n"
     ]
    }
   ],
   "source": [
    "import random\n",
    "\n",
    "def determine_winner(user_choice, computer_choice):\n",
    "    if user_choice == computer_choice:\n",
    "        return \"It's a tie!\"\n",
    "    elif (user_choice == 'rock' and computer_choice == 'scissors'): \n",
    "        return \"You Win!\"\n",
    "    elif (user_choice == 'scissors' and computer_choice == 'paper'):\n",
    "        return \"You Win!\"     \n",
    "    elif (user_choice == 'paper' and computer_choice == 'rock'):\n",
    "        return \"You Win!\"\n",
    "    else:\n",
    "        return \"Computer Win!\"\n",
    "\n",
    "def play_game():\n",
    "    choices = ['rock', 'paper', 'scissor']\n",
    "    user_score = 0\n",
    "    computer_score = 0\n",
    "    \n",
    "    while True:\n",
    "        print(\"\\n\",\"*\"*8,\" Welcome to the ROCK PAPER SCISSOR GAME \",\"*\"*8,\"\\n\")\n",
    "        user_choice = input(\"Enter your choice ( rock / paper / scissor ): \").lower()\n",
    "        while user_choice not in choices:\n",
    "            print(\"Invalid choice. Please choose either rock, paper, or scissor.\")\n",
    "            user_choice = input(\"Enter your choice (rock/paper/scissor): \").lower()\n",
    "        \n",
    "        computer_choice = random.choice(choices)\n",
    "        \n",
    "        print(\"You chose :\", user_choice)\n",
    "        print(\"Computer chose :\", computer_choice)\n",
    "        \n",
    "        result = determine_winner(user_choice, computer_choice)\n",
    "        print(result)\n",
    "        \n",
    "        if result == \"You Win!\":\n",
    "            user_score += 1\n",
    "        elif result == \"Computer Win!\":\n",
    "            computer_score += 1\n",
    "        \n",
    "        print(\"\\nScore - You :\", user_score, \"\\nComputer :\", computer_score)\n",
    "        answer=['yes','no']\n",
    "        play_again = input(\"\\nDo you want to play again? (yes/no) : \").lower()\n",
    "            \n",
    "        if play_again != 'yes':\n",
    "            print(\"Thanks for playing!\")\n",
    "            if user_score>computer_score:\n",
    "                print(\"\\nUser won by\",user_score-computer_score,\" points\")\n",
    "            elif user_score==computer_score:\n",
    "                print(\"\\nBoth have Equal Points\")\n",
    "            else:\n",
    "                print(\"\\nComputer won by\",computer_score-user_score,\" points\")\n",
    "            break\n",
    "\n",
    "play_game()"
   ]
  },
  {
   "cell_type": "code",
   "execution_count": null,
   "id": "bf1d6855-862a-4689-a64b-eb2a47366b36",
   "metadata": {},
   "outputs": [],
   "source": []
  }
 ],
 "metadata": {
  "kernelspec": {
   "display_name": "Python 3 (ipykernel)",
   "language": "python",
   "name": "python3"
  },
  "language_info": {
   "codemirror_mode": {
    "name": "ipython",
    "version": 3
   },
   "file_extension": ".py",
   "mimetype": "text/x-python",
   "name": "python",
   "nbconvert_exporter": "python",
   "pygments_lexer": "ipython3",
   "version": "3.11.7"
  }
 },
 "nbformat": 4,
 "nbformat_minor": 5
}
