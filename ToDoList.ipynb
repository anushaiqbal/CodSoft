{
 "cells": [
  {
   "cell_type": "code",
   "execution_count": 5,
   "id": "1147922f-1f9f-4480-8c4a-c72c3de811dc",
   "metadata": {},
   "outputs": [],
   "source": [
    "import tkinter as tk\n",
    "\n",
    "def add_task():\n",
    "    task = entry.get()\n",
    "    if task:\n",
    "        tasks.append(task)\n",
    "        listbox.insert(tk.END, task)\n",
    "        entry.delete(0, tk.END)\n",
    "\n",
    "def remove_task():\n",
    "    selection = listbox.curselection()  # Get the index of the selected item\n",
    "    if selection:\n",
    "        index = selection[0]  # Get the first selected index\n",
    "        tasks.pop(index)  # Remove the task from the tasks list\n",
    "        listbox.delete(index)  # Remove the task from the listbox\n",
    "\n",
    "tasks = []\n",
    "\n",
    "app = tk.Tk()\n",
    "app.title(\"To-Do List\")\n",
    "\n",
    "entry = tk.Entry(app, width=40)\n",
    "entry.pack(pady=10)\n",
    "add_button = tk.Button(app, text=\"Add Task\", command=add_task)\n",
    "add_button.pack()\n",
    "\n",
    "listbox = tk.Listbox(app, width=40)\n",
    "listbox.pack()\n",
    "\n",
    "remove_button = tk.Button(app, text=\"Remove Task\", command=remove_task)\n",
    "remove_button.pack()\n",
    "\n",
    "app.mainloop()"
   ]
  },
  {
   "cell_type": "code",
   "execution_count": null,
   "id": "b3474a57-df5e-4af0-99dc-24d86ae8ffd4",
   "metadata": {},
   "outputs": [],
   "source": []
  }
 ],
 "metadata": {
  "kernelspec": {
   "display_name": "Python 3 (ipykernel)",
   "language": "python",
   "name": "python3"
  },
  "language_info": {
   "codemirror_mode": {
    "name": "ipython",
    "version": 3
   },
   "file_extension": ".py",
   "mimetype": "text/x-python",
   "name": "python",
   "nbconvert_exporter": "python",
   "pygments_lexer": "ipython3",
   "version": "3.11.7"
  }
 },
 "nbformat": 4,
 "nbformat_minor": 5
}
