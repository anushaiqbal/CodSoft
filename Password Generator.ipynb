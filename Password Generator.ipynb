{
 "cells": [
  {
   "cell_type": "code",
   "execution_count": 11,
   "id": "be4698ec-2461-4dbf-982d-3f9ef303a43a",
   "metadata": {},
   "outputs": [
    {
     "name": "stdout",
     "output_type": "stream",
     "text": [
      "*****WELCOME TO PASSWORD GENERATOR*****\n",
      "To ensure the security of your generated password, Please specify the desired lengths of Letters, Digits & Special Characters: \n"
     ]
    },
    {
     "name": "stdin",
     "output_type": "stream",
     "text": [
      "Please Enter No. of Letters in your Password:  8\n",
      "Please Enter No. of Digits in your Password:  4\n",
      "Please Enter No. of Special Characters in your Password: 5\n"
     ]
    },
    {
     "name": "stdout",
     "output_type": "stream",
     "text": [
      "Your Generated Password Is :  5wQ(=!5KWGyL+1_6e\n"
     ]
    }
   ],
   "source": [
    "import random \n",
    "import string\n",
    "password=''\n",
    "print('*****WELCOME TO PASSWORD GENERATOR*****')\n",
    "print('To ensure the security of your generated password, Please specify the desired lengths of Letters, Digits & Special Characters: ')\n",
    "words=[random.choice(string.ascii_letters) for i in range(int(input('Please Enter No. of Letters in your Password: ')))]\n",
    "numbers=[random.choice(string.digits) for i in range(int(input('Please Enter No. of Digits in your Password: ')))]\n",
    "symbol=[random.choice(string.punctuation) for i in range(int(input('Please Enter No. of Special Characters in your Password:')))]\n",
    "key=words+numbers+symbol\n",
    "random.shuffle(key)\n",
    "for i in key:\n",
    "    password=password+i\n",
    "print(\"Your Generated Password Is : \",password)"
   ]
  },
  {
   "cell_type": "code",
   "execution_count": null,
   "id": "d431db66-a82d-478c-8813-50fa9829b4f1",
   "metadata": {},
   "outputs": [],
   "source": []
  }
 ],
 "metadata": {
  "kernelspec": {
   "display_name": "Python 3 (ipykernel)",
   "language": "python",
   "name": "python3"
  },
  "language_info": {
   "codemirror_mode": {
    "name": "ipython",
    "version": 3
   },
   "file_extension": ".py",
   "mimetype": "text/x-python",
   "name": "python",
   "nbconvert_exporter": "python",
   "pygments_lexer": "ipython3",
   "version": "3.11.7"
  }
 },
 "nbformat": 4,
 "nbformat_minor": 5
}
